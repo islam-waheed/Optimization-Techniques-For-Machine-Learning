{
  "cells": [
    {
      "cell_type": "markdown",
      "metadata": {
        "id": "SNThIWqgyt3C"
      },
      "source": [
        "## Practical Work 4"
      ]
    },
    {
      "cell_type": "markdown",
      "metadata": {
        "id": "WGKUpLSxyt3I"
      },
      "source": [
        "For this practical work, the student will have to develop a Python program that is able to implement the accelerated gradient descent methods with adaptive learning rate <b>(Adagrad, RMSProp, and Adam)</b> in order to achieve the linear regression of a set of datapoints."
      ]
    },
    {
      "cell_type": "markdown",
      "metadata": {
        "id": "3KganIzkyt3J"
      },
      "source": [
        "#### Import numpy, matplotlib.pyplot and make it inline"
      ]
    },
    {
      "cell_type": "code",
      "execution_count": null,
      "metadata": {
        "id": "5y2HObQyyt3K"
      },
      "outputs": [],
      "source": [
        "import numpy as np\n",
        "import matplotlib.pyplot as plt\n",
        "from sklearn.metrics import r2_score"
      ]
    },
    {
      "cell_type": "markdown",
      "metadata": {
        "id": "AWv96jvZyt3L"
      },
      "source": [
        "To have a dataset or set of data points, the student must generate a pair of arrays <b>X</b> and <b>y</b> with the values in <b>X</b> equally distributed between <b>0</b> and <b>20</b> and the values in <b>y</b> such that: \n",
        "<b>yi = a*xi + b (and a = -1, b = 2)</b>\n"
      ]
    },
    {
      "cell_type": "code",
      "execution_count": null,
      "metadata": {
        "id": "EMb6_5-Xyt3L",
        "colab": {
          "base_uri": "https://localhost:8080/"
        },
        "outputId": "55592632-27f9-43d3-ad15-ad1b7e58ea3f"
      },
      "outputs": [
        {
          "output_type": "stream",
          "name": "stdout",
          "text": [
            "50\n"
          ]
        }
      ],
      "source": [
        "x=np.linspace(0,20,50)\n",
        "print(len(x))"
      ]
    },
    {
      "cell_type": "code",
      "execution_count": null,
      "metadata": {
        "id": "CRwFWknFyt3M",
        "colab": {
          "base_uri": "https://localhost:8080/"
        },
        "outputId": "5588d52e-4f7c-4533-e34e-45a757b07ed5"
      },
      "outputs": [
        {
          "output_type": "stream",
          "name": "stdout",
          "text": [
            "[  1.           0.18367347  -0.63265306  -1.44897959  -2.26530612\n",
            "  -3.08163265  -3.89795918  -4.71428571  -5.53061224  -6.34693878\n",
            "  -7.16326531  -7.97959184  -8.79591837  -9.6122449  -10.42857143\n",
            " -11.24489796 -12.06122449 -12.87755102 -13.69387755 -14.51020408\n",
            " -15.32653061 -16.14285714 -16.95918367 -17.7755102  -18.59183673\n",
            " -19.40816327 -20.2244898  -21.04081633 -21.85714286 -22.67346939\n",
            " -23.48979592 -24.30612245 -25.12244898 -25.93877551 -26.75510204\n",
            " -27.57142857 -28.3877551  -29.20408163 -30.02040816 -30.83673469\n",
            " -31.65306122 -32.46938776 -33.28571429 -34.10204082 -34.91836735\n",
            " -35.73469388 -36.55102041 -37.36734694 -38.18367347 -39.        ]\n"
          ]
        }
      ],
      "source": [
        "a=-2\n",
        "b=1\n",
        "y=a*x+b\n",
        "print(y)"
      ]
    },
    {
      "cell_type": "markdown",
      "metadata": {
        "id": "DckhRJyFyt3N"
      },
      "source": [
        "#### Plot your data points. "
      ]
    },
    {
      "cell_type": "code",
      "execution_count": null,
      "metadata": {
        "scrolled": false,
        "id": "yPq5mEU1yt3O"
      },
      "outputs": [],
      "source": [
        ""
      ]
    },
    {
      "cell_type": "code",
      "source": [
        ""
      ],
      "metadata": {
        "id": "aNClcV9eNpoT"
      },
      "execution_count": null,
      "outputs": []
    },
    {
      "cell_type": "markdown",
      "metadata": {
        "id": "aSgg1lTfyt3P"
      },
      "source": [
        "## Adagrad"
      ]
    },
    {
      "cell_type": "markdown",
      "metadata": {
        "id": "MKlj7FSGyt3Q"
      },
      "source": [
        "### For a single variable linear regression ML model, build a function to find the optimum Theta_0 and Theta_1 parameters using Adagrad optimization algorithm.\n",
        "#### The funtion should have the following input parameters:\n",
        "##### 1. Input data as a matrix (or vector based on your data).\n",
        "##### 2. Target label as a vector.\n",
        "##### 3. Learning rate.\n",
        "##### 4. Epsilon.\n",
        "##### 5. Maximum number of iterations (Epochs).\n",
        "#### The funtion should return the following outputs:\n",
        "##### 1. All predicted Theta_0 in all iterations.\n",
        "##### 2. All predicted Theta_1 in all iterations.\n",
        "##### 3. Corresponding loss for each Theta_0 and Theta_1 predictions.\n",
        "##### 4.All hypothesis outputs (prdicted labels) for each Theta_0 and Theta_1 predictions.\n",
        "##### 5.Final Optimum values of Theta_0 and Theta_1.\n",
        "#### Choose the suitable number of iterations, learning rate, Epsilon, and stop criteria.\n",
        "#### Calculate r2 score. Shouldn't below 0.9\n",
        "#### Plot the required curves (loss-epochs, loss-theta0, loss-theta1, all fitted lines per epoch (single graph), best fit line)\n",
        "#### Try different values of the huperparameters and see the differnce in your results."
      ]
    },
    {
      "cell_type": "markdown",
      "metadata": {
        "id": "bgkyjFXayt3R"
      },
      "source": [
        "![image.png](attachment:image.png)"
      ]
    },
    {
      "cell_type": "code",
      "execution_count": null,
      "metadata": {
        "id": "4oV6mdcsyt3S"
      },
      "outputs": [],
      "source": [
        "def h(x,th0,th1):\n",
        "  return th0+th1*x\n",
        "\n",
        "def cost(x,y,th0,th1):\n",
        "  hypo = h(x,th0,th1)\n",
        "  m = len(hypo)\n",
        "  return sum((hypo-y)**2)/(2*m)\n",
        "\n",
        "def lin_reg(x,y,theta0,theta1,lr,max_iteration):   \n",
        "    theta0=0\n",
        "    theta1=0\n",
        "    j2 = cost(x,y,theta0,theta1)\n",
        "    j1=10**10                       \n",
        "    n=0\n",
        "    m=len(x)                        \n",
        "    v0t=0\n",
        "    v1t=0\n",
        "    n=0\n",
        "    epsilon=10**(-15)\n",
        "    it=[]\n",
        "    jlist=[]\n",
        "    th0list=[]\n",
        "    th1list=[]\n",
        "    while abs(j2-j1)>=0.000001 and n< max_iteration:\n",
        "        \n",
        "        v0t=v0t+(sum(h(x,theta0,theta1)-y)/(m))**2\n",
        "        v1t=v1t+(sum((h(x,theta0,theta1)-y)*x)/(m))**2\n",
        "        G0=v0t**0.5+epsilon\n",
        "        G1=v1t**0.5+epsilon\n",
        "        theta0=theta0 - (lr/G0)*cost(x,y,theta0, theta1)\n",
        "        theta1=theta1 - (lr/G1)*cost(x,y,theta0, theta1)\n",
        "        th0list.append(theta0)\n",
        "        th1list.append(theta1)\n",
        "        it.append(n)\n",
        "        j1=j2\n",
        "        j2= cost(x,y,theta0,theta1)\n",
        "        jlist.append(j2)\n",
        "        n+=1\n",
        "        \n",
        "    print(n)\n",
        "    return it,jlist,th0list,th1list,theta0,theta1"
      ]
    },
    {
      "cell_type": "code",
      "execution_count": null,
      "metadata": {
        "id": "lj0hMm_Xyt3T",
        "colab": {
          "base_uri": "https://localhost:8080/"
        },
        "outputId": "f5b252f3-854a-4976-c0d6-33add4072a6a"
      },
      "outputs": [
        {
          "output_type": "stream",
          "name": "stdout",
          "text": [
            "100\n",
            "R2 score is 0.6229081720036747\n"
          ]
        }
      ],
      "source": [
        "it,jlist,th0list,th1list,th0,th1=lin_reg(x, y, 0, 0,0.1, 100)\n",
        "print(\"R2 score is\",r2_score(y,h(x,th0,th1)))"
      ]
    },
    {
      "cell_type": "code",
      "execution_count": null,
      "metadata": {
        "id": "XTkCsgLryt3T",
        "colab": {
          "base_uri": "https://localhost:8080/",
          "height": 265
        },
        "outputId": "e3ec5fdf-13ab-4b5a-94a8-303f6fc9db1e"
      },
      "outputs": [
        {
          "output_type": "display_data",
          "data": {
            "text/plain": [
              "<Figure size 432x288 with 1 Axes>"
            ],
            "image/png": "[encoded data removed]"
          },
          "metadata": {
            "needs_background": "light"
          }
        }
      ],
      "source": [
        "plt.scatter(x,y)\n",
        "plt.plot(x,h(x,th0,th1) , c = \"r\")\n",
        "plt.show()"
      ]
    },
    {
      "cell_type": "code",
      "execution_count": null,
      "metadata": {
        "id": "prA_FCTGyt3T",
        "colab": {
          "base_uri": "https://localhost:8080/",
          "height": 265
        },
        "outputId": "76b4ed52-376f-4d7d-9e35-6284949c9849"
      },
      "outputs": [
        {
          "output_type": "display_data",
          "data": {
            "text/plain": [
              "<Figure size 432x288 with 1 Axes>"
            ],
            "image/png": "[encoded data removed]"
          },
          "metadata": {
            "needs_background": "light"
          }
        }
      ],
      "source": [
        "plt.plot(jlist);"
      ]
    },
    {
      "cell_type": "code",
      "execution_count": null,
      "metadata": {
        "id": "CfalIXU0yt3U",
        "colab": {
          "base_uri": "https://localhost:8080/",
          "height": 265
        },
        "outputId": "cee04d5b-28de-439d-9f35-fe8e57520e1d"
      },
      "outputs": [
        {
          "output_type": "display_data",
          "data": {
            "text/plain": [
              "<Figure size 432x288 with 1 Axes>"
            ],
            "image/png": "[encoded data removed]"
          },
          "metadata": {
            "needs_background": "light"
          }
        }
      ],
      "source": [
        "plt.plot(th0list,jlist);"
      ]
    },
    {
      "cell_type": "code",
      "source": [
        "plt.scatter(x,y)\n",
        "for i in range(0,len(th0list),5 ):\n",
        "    plt.plot(x,h(x,th0list[i],th1list[i]) ,alpha=0.5)"
      ],
      "metadata": {
        "colab": {
          "base_uri": "https://localhost:8080/",
          "height": 265
        },
        "id": "E4cXKIrvrJu5",
        "outputId": "491da98f-38db-4170-d6a5-bddb035d6db8"
      },
      "execution_count": null,
      "outputs": [
        {
          "output_type": "display_data",
          "data": {
            "text/plain": [
              "<Figure size 432x288 with 1 Axes>"
            ],
            "image/png": "[encoded data removed]"
          },
          "metadata": {
            "needs_background": "light"
          }
        }
      ]
    },
    {
      "cell_type": "markdown",
      "metadata": {
        "id": "nlbs-HKJyt3U"
      },
      "source": [
        "## RMSProp"
      ]
    },
    {
      "cell_type": "markdown",
      "metadata": {
        "id": "a-4VZVxryt3V"
      },
      "source": [
        "### Update the previos implementation to be RMSProp.\n",
        "#### Compare your results with Adagrad results."
      ]
    },
    {
      "cell_type": "markdown",
      "metadata": {
        "id": "4VzDFOwNyt3V"
      },
      "source": [
        "![image.png](attachment:image.png)"
      ]
    },
    {
      "cell_type": "code",
      "execution_count": null,
      "metadata": {
        "id": "0msXkKCxyt3W"
      },
      "outputs": [],
      "source": [
        "def h(x,th0,th1):\n",
        "  return th0+th1*x\n",
        "\n",
        "def cost(x,y,th0,th1):\n",
        "  hypo = h(x,th0,th1)\n",
        "  m = len(hypo)\n",
        "  return sum((hypo-y)**2)/(2*m)\n",
        "\n",
        "\n",
        "def lin_reg(x,y,theta0,theta1,lr,beta,iteraions):\n",
        "\n",
        "    j1=10**10\n",
        "    j2=10**9\n",
        "    n=0\n",
        "    m = len(x)\n",
        "    v0t=0\n",
        "    v1t=0\n",
        "    epsilon=10**(-8)\n",
        "    jlist=[]\n",
        "    th0list=[]\n",
        "    th1list= []\n",
        "    while abs(j2-j1)>0.0001 and n< iteraions:\n",
        "      for i in range(m):\n",
        "        v0t=beta*v0t+(1-beta)*(sum(h(x,theta0,theta1)-y)/(m))**2\n",
        "        v1t=beta*v1t+(1-beta)*(sum((h(x,theta0,theta1)-y)*x)/(m))**2\n",
        "        \n",
        "        G0=v0t**0.5+epsilon\n",
        "        G1=v1t**0.5+epsilon\n",
        "        theta0=theta0 - (lr/G0)*cost(x,y,theta0,theta1)\n",
        "        theta1=theta1 - (lr/G1)*cost(x,y,theta0,theta1)\n",
        "        th0list.append(theta0)\n",
        "        th1list.append(theta1)\n",
        "      j1=j2\n",
        "      j2=cost(x,y,theta0,theta1)\n",
        "      jlist.append(j2)\n",
        "      n+=1\n",
        "    return it,jlist,th0list,th1list,theta0,theta1"
      ]
    },
    {
      "cell_type": "code",
      "execution_count": null,
      "metadata": {
        "id": "dgK_BRDhyt3W",
        "colab": {
          "base_uri": "https://localhost:8080/"
        },
        "outputId": "5b60d4e7-52bd-4397-91a0-e4b0d8d6e076"
      },
      "outputs": [
        {
          "output_type": "stream",
          "name": "stdout",
          "text": [
            "R2 score is -1.9653298495277203\n"
          ]
        }
      ],
      "source": [
        "it,jlist,th0list,th1list,th0,th1=lin_reg(x, y, 0,0, 0.000019,0.99,100)\n",
        "print(\"R2 score is\",r2_score(y,h(x,th0,th1)))"
      ]
    },
    {
      "cell_type": "code",
      "execution_count": null,
      "metadata": {
        "id": "WHGG3u_oyt3W"
      },
      "outputs": [],
      "source": [
        ""
      ]
    },
    {
      "cell_type": "code",
      "execution_count": null,
      "metadata": {
        "id": "WjKeBUu5yt3W"
      },
      "outputs": [],
      "source": [
        ""
      ]
    },
    {
      "cell_type": "code",
      "execution_count": null,
      "metadata": {
        "id": "PEHxG0tWyt3X"
      },
      "outputs": [],
      "source": [
        ""
      ]
    },
    {
      "cell_type": "code",
      "execution_count": null,
      "metadata": {
        "id": "NfnBXWnSyt3X"
      },
      "outputs": [],
      "source": [
        ""
      ]
    },
    {
      "cell_type": "markdown",
      "metadata": {
        "id": "v7vHEbRsyt3X"
      },
      "source": [
        "## Adam"
      ]
    },
    {
      "cell_type": "markdown",
      "metadata": {
        "id": "pti6WB38yt3X"
      },
      "source": [
        "### Update the previos implementation to be Adam.\n",
        "#### Compare your results with Adagrad and RMSProp results."
      ]
    },
    {
      "cell_type": "markdown",
      "metadata": {
        "id": "9csN10qvyt3Y"
      },
      "source": [
        "![image-4.png](attachment:image-4.png)"
      ]
    },
    {
      "cell_type": "code",
      "execution_count": null,
      "metadata": {
        "id": "U-MPvJLzyt3Y"
      },
      "outputs": [],
      "source": [
        ""
      ]
    },
    {
      "cell_type": "code",
      "execution_count": null,
      "metadata": {
        "id": "uvbqiqOeyt3Y"
      },
      "outputs": [],
      "source": [
        ""
      ]
    },
    {
      "cell_type": "code",
      "execution_count": null,
      "metadata": {
        "id": "osVJmLGvyt3Y"
      },
      "outputs": [],
      "source": [
        ""
      ]
    },
    {
      "cell_type": "code",
      "execution_count": null,
      "metadata": {
        "id": "0rxlejgQyt3Z"
      },
      "outputs": [],
      "source": [
        ""
      ]
    },
    {
      "cell_type": "code",
      "execution_count": null,
      "metadata": {
        "id": "xpSDeVqfyt3Z"
      },
      "outputs": [],
      "source": [
        ""
      ]
    },
    {
      "cell_type": "markdown",
      "metadata": {
        "id": "wO-AnBTyyt3Z"
      },
      "source": [
        "## Congratulations \n",
        "![image.png](attachment:image.png)"
      ]
    },
    {
      "cell_type": "code",
      "execution_count": null,
      "metadata": {
        "id": "D_VR6ITvyt3Z"
      },
      "outputs": [],
      "source": [
        ""
      ]
    }
  ],
  "metadata": {
    "kernelspec": {
      "display_name": "Python 3",
      "language": "python",
      "name": "python3"
    },
    "language_info": {
      "codemirror_mode": {
        "name": "ipython",
        "version": 3
      },
      "file_extension": ".py",
      "mimetype": "text/x-python",
      "name": "python",
      "nbconvert_exporter": "python",
      "pygments_lexer": "ipython3",
      "version": "3.8.5"
    },
    "colab": {
      "name": "Practical Session 4 Adagrad-RMSProp-Adam_IslamWaheed.ipynb",
      "provenance": [],
      "collapsed_sections": []
    }
  },
  "nbformat": 4,
  "nbformat_minor": 0
}
